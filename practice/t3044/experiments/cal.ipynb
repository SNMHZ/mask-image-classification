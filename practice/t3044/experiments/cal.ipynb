{
 "cells": [
  {
   "cell_type": "code",
   "execution_count": 9,
   "metadata": {},
   "outputs": [],
   "source": [
    "import os\n",
    "import pandas as pd"
   ]
  },
  {
   "cell_type": "code",
   "execution_count": 2,
   "metadata": {},
   "outputs": [],
   "source": [
    "train_dir = '/opt/ml/input/data/train/images_augmented_1000'"
   ]
  },
  {
   "cell_type": "code",
   "execution_count": 17,
   "metadata": {},
   "outputs": [
    {
     "data": {
      "text/plain": [
       "1"
      ]
     },
     "execution_count": 17,
     "metadata": {},
     "output_type": "execute_result"
    }
   ],
   "source": [
    "gender = 'female'\n",
    "gender = 0 if gender == 'male' else 1\n",
    "gender"
   ]
  },
  {
   "cell_type": "code",
   "execution_count": 25,
   "metadata": {},
   "outputs": [
    {
     "data": {
      "text/plain": [
       "'/opt/ml/input/data/train/images_augmented_1000/3021001640_male_Asian_18/incorrect_mask3.jpg'"
      ]
     },
     "execution_count": 25,
     "metadata": {},
     "output_type": "execute_result"
    }
   ],
   "source": [
    "profiles = os.listdir(train_dir)\n",
    "indices = []\n",
    "for profile in profiles:\n",
    "    if profile.startswith('.'):\n",
    "        continue\n",
    "    \n",
    "    id, gender, race, age = profile.split('_')\n",
    "    gender = 0 if gender == 'male' else 1\n",
    "    \n",
    "    names = os.listdir(os.path.join(train_dir, profile))\n",
    "    for name in names:\n",
    "        if name.startswith('.'):\n",
    "            continue\n",
    "        \n",
    "        if name.startswith('mask'):\n",
    "            mask = 0\n",
    "        elif name.startswith('in'):\n",
    "            mask = 1\n",
    "        else:\n",
    "            mask = 2\n",
    "        name_path = os.path.join(train_dir, profile, name)\n",
    "\n",
    "        indices.append((name_path, gender, age, mask))\n",
    "# gender: male -> 0, female -> 1\n",
    "# mask: mask -> 0, incorrect -> 1, normal -> 2\n",
    "profiles_df = pd.DataFrame(indices, columns=['path', 'gender', 'age', 'mask'])\n",
    "profiles_df.path[0]\n",
    "\n",
    "\n",
    "\n"
   ]
  },
  {
   "cell_type": "code",
   "execution_count": 28,
   "metadata": {},
   "outputs": [
    {
     "data": {
      "text/plain": [
       "('60', '18')"
      ]
     },
     "execution_count": 28,
     "metadata": {},
     "output_type": "execute_result"
    }
   ],
   "source": [
    "profiles_df.age.value_counts().index.max(), profiles_df.age.value_counts().index.min()"
   ]
  },
  {
   "cell_type": "code",
   "execution_count": null,
   "metadata": {},
   "outputs": [],
   "source": [
    "best_test_accuracy = 0.\n",
    "best_test_loss = 9999.\n",
    "for epoch in range(NUM_EPOCH):\n",
    "  running_loss = 0.\n",
    "  running_acc = 0.\n",
    "  net_gender.train()\n",
    "  for ind, (images, labels) in enumerate(tqdm(gender_dataloader)):\n",
    "    images = images.to(device)\n",
    "    labels = labels.to(device)\n",
    "    optim_gender.zero_grad() # parameter gradient를 업데이트 전 초기화함\n",
    "    logits = net_gender(images)\n",
    "    _, preds = torch.max(logits, 1) # 모델에서 linear 값으로 나오는 예측 값 ([0.9,1.2, 3.2,0.1,-0.1,...])을 최대 output index를 찾아 예측 레이블([2])로 변경함 \n",
    "    loss = loss_fn(logits, labels.long())\n",
    "    loss.backward() # 모델의 예측 값과 실제 값의 CrossEntropy 차이를 통해 gradient 계산\n",
    "    optim_gender.step() # 계산된 gradient를 가지고 모델 업데이트\n",
    "    running_loss += loss.item() * images.size(0) # 한 Batch에서의 loss 값 저장\n",
    "    running_acc += torch.sum(preds == labels.data) # 한 Batch에서의 Accuracy 값 저장\n",
    "  # 한 epoch이 모두 종료되었을 때,\n",
    "  epoch_loss = running_loss / len(gender_dataloader.dataset)\n",
    "  epoch_acc = running_acc / len(gender_dataloader.dataset)\n",
    "  print(f\"현재 epoch-{epoch}의 평균 Loss : {epoch_loss:.3f}, 평균 Accuracy : {epoch_acc:.3f}\")\n",
    "  if best_test_accuracy < epoch_acc: # phase가 test일 때, best accuracy 계산\n",
    "    best_test_accuracy = epoch_acc\n",
    "  if best_test_loss > epoch_loss: # phase가 test일 때, best loss 계산\n",
    "    best_test_loss = epoch_loss\n",
    "print(\"gender 학습 종료!\")\n",
    "print(f\"최고 accuracy : {best_test_accuracy}, 최고 낮은 loss : {best_test_loss}\")\n",
    "torch.save(net_gender.state_dict(), f\"{save_dir}/gender.pth\")"
   ]
  }
 ],
 "metadata": {
  "interpreter": {
   "hash": "d4d1e4263499bec80672ea0156c357c1ee493ec2b1c70f0acce89fc37c4a6abe"
  },
  "kernelspec": {
   "display_name": "Python 3.8.5 ('base')",
   "language": "python",
   "name": "python3"
  },
  "language_info": {
   "codemirror_mode": {
    "name": "ipython",
    "version": 3
   },
   "file_extension": ".py",
   "mimetype": "text/x-python",
   "name": "python",
   "nbconvert_exporter": "python",
   "pygments_lexer": "ipython3",
   "version": "3.8.5"
  },
  "orig_nbformat": 4
 },
 "nbformat": 4,
 "nbformat_minor": 2
}
