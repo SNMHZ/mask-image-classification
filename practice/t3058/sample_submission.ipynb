{
 "cells": [
  {
   "cell_type": "markdown",
   "id": "about-heavy",
   "metadata": {},
   "source": [
    "## 0. Libarary 불러오기 및 경로설정"
   ]
  },
  {
   "cell_type": "code",
   "execution_count": 1,
   "id": "cubic-scoop",
   "metadata": {},
   "outputs": [],
   "source": [
    "import os\n",
    "import pandas as pd\n",
    "from PIL import Image\n",
    "\n",
    "import torch\n",
    "import torch.nn as nn\n",
    "import torch.nn.functional as F\n",
    "from torch.utils.data import Dataset, DataLoader\n",
    "\n",
    "from torchvision import transforms\n",
    "from torchvision.transforms import Resize, ToTensor, Normalize\n",
    "\n",
    "\n",
    "from pandas import DataFrame\n",
    "import torch.optim as optim\n",
    "import torchvision.models as models\n",
    "import math"
   ]
  },
  {
   "cell_type": "code",
   "execution_count": 6,
   "id": "built-elevation",
   "metadata": {},
   "outputs": [],
   "source": [
    "# 테스트 데이터셋 폴더 경로를 지정해주세요.\n",
    "train_dir = '/opt/ml/input/data/train'\n",
    "test_dir = '/opt/ml/input/data/eval'"
   ]
  },
  {
   "cell_type": "markdown",
   "id": "continued-feelings",
   "metadata": {},
   "source": [
    "## 1. Renet152"
   ]
  },
  {
   "cell_type": "code",
   "execution_count": 7,
   "id": "b90fe25b",
   "metadata": {},
   "outputs": [],
   "source": [
    "model = models.resnet152()"
   ]
  },
  {
   "cell_type": "markdown",
   "id": "quiet-organizer",
   "metadata": {},
   "source": [
    "## 1. Model 정의"
   ]
  },
  {
   "cell_type": "code",
   "execution_count": 8,
   "id": "acknowledged-easter",
   "metadata": {},
   "outputs": [],
   "source": [
    "class MyModel(nn.Module):\n",
    "    def __init__(self, num_classes: int = 1000):\n",
    "        super(MyModel, self).__init__()\n",
    "        self.features = nn.Sequential(\n",
    "            nn.Conv2d(3, 64, kernel_size=11, stride=4, padding=2),\n",
    "            nn.BatchNorm2d(64),\n",
    "            nn.ReLU(inplace=True),\n",
    "        )\n",
    "        self.avgpool = nn.AdaptiveAvgPool2d((1, 1))\n",
    "        self.classifier = nn.Sequential(\n",
    "            nn.Dropout(),\n",
    "            nn.Linear(64, 32),\n",
    "            nn.ReLU(inplace=True),\n",
    "            nn.Linear(32, num_classes),\n",
    "        )\n",
    "\n",
    "    def forward(self, x: torch.Tensor) -> torch.Tensor:\n",
    "        x = self.features(x)\n",
    "        x = self.avgpool(x)\n",
    "        x = torch.flatten(x, 1)\n",
    "        x = self.classifier(x)\n",
    "        return x"
   ]
  },
  {
   "cell_type": "markdown",
   "id": "domestic-channels",
   "metadata": {},
   "source": [
    "## 2-1. Train Dataset 정의"
   ]
  },
  {
   "cell_type": "code",
   "execution_count": 14,
   "id": "29834456",
   "metadata": {},
   "outputs": [],
   "source": [
    "class TrainDataset(Dataset):    #Dataset만 받아야 한다.\n",
    "    def __init__(self, transform=''):\n",
    "        self.transform = transform\n",
    "        self.train_data = DataFrame({\"image\":[], \"mask\":[], \"gender\":[], \"age\":[]})\n",
    "\n",
    "        train_csv= pd.read_csv(os.path.join(train_dir, 'train.csv'))\n",
    "        tmp_x_paths = [os.path.join(train_dir,\"images\",img_id) for img_id in train_csv.path]\n",
    "        names = ['incorrect_mask.jpg','mask1.jpg','mask2.jpg','mask3.jpg','mask4.jpg','mask5.jpg','normal.jpg']\n",
    "        \n",
    "        for i,img_dir in enumerate(tmp_x_paths):\n",
    "            gender,age = 0,0\n",
    "            if 30<=train_csv.age[i]<60:\n",
    "                age = 1\n",
    "            elif train_csv.age[i]>=60:\n",
    "                age = 2\n",
    "            if train_csv.gender[i][0]=='F':\n",
    "                gender = 1\n",
    "                \n",
    "            for j, name in enumerate(names):\n",
    "                if name[0]=='m':\n",
    "                    self.train_data.loc[7*i+j] = [os.path.join(img_dir,name), 0, gender, age]\n",
    "                elif name[0]=='i':\n",
    "                    self.train_data.loc[7*i+j] = [os.path.join(img_dir,name), 1, gender, age]\n",
    "                else:\n",
    "                    self.train_data.loc[7*i+j] = [os.path.join(img_dir,name), 2, gender, age]\n",
    "\n",
    "\n",
    "    def __getitem__(self, index):\n",
    "        image = Image.open(self.train_data[\"image\"][index])\n",
    "\n",
    "        if self.transform:\n",
    "            image = self.transform(image)\n",
    "        return image\n",
    "\n",
    "    def __len__(self):\n",
    "        return len(self.train_data)"
   ]
  },
  {
   "cell_type": "markdown",
   "id": "b206fad6",
   "metadata": {},
   "source": [
    "## 2-2. Test Dataset 정의"
   ]
  },
  {
   "cell_type": "code",
   "execution_count": 15,
   "id": "11533a03",
   "metadata": {},
   "outputs": [],
   "source": [
    "class TestDataset(Dataset):\n",
    "    def __init__(self, img_paths, transform):\n",
    "        self.img_paths = img_paths\n",
    "        self.transform = transform\n",
    "\n",
    "    def __getitem__(self, index):\n",
    "        image = Image.open(self.img_paths[index])\n",
    "\n",
    "        if self.transform:\n",
    "            image = self.transform(image)\n",
    "        return image\n",
    "\n",
    "    def __len__(self):\n",
    "        return len(self.img_paths)"
   ]
  },
  {
   "cell_type": "markdown",
   "id": "continued-feelings",
   "metadata": {},
   "source": [
    "## 3. Pre-Processing"
   ]
  },
  {
   "cell_type": "code",
   "execution_count": 25,
   "id": "287267a8",
   "metadata": {},
   "outputs": [],
   "source": [
    "transform = transforms.Compose([\n",
    "    Resize((512, 384), Image.BILINEAR),\n",
    "    ToTensor(),\n",
    "    Normalize(mean=(0.5, 0.5, 0.5), std=(0.2, 0.2, 0.2)),\n",
    "])\n",
    "\n",
    "train_data = TrainDataset(transform=transform)\n",
    "# x_data = TrainDataset()\n",
    "\n",
    "test_data = TestDataset(test_dir,transform=transform)\n",
    "\n",
    "train_loader = DataLoader(train_data, shuffle=True)"
   ]
  },
  {
   "cell_type": "markdown",
   "id": "continued-feelings",
   "metadata": {},
   "source": [
    "## 4. Training"
   ]
  },
  {
   "cell_type": "code",
   "execution_count": 28,
   "id": "42c1080b",
   "metadata": {},
   "outputs": [
    {
     "data": {
      "text/plain": [
       "tensor([ 0.0216,  0.0143, -0.0168,  0.0172,  0.0078, -0.0088,  0.0128,  0.0128,\n",
       "        -0.0097, -0.0132,  0.0091,  0.0180, -0.0015, -0.0024,  0.0132,  0.0102,\n",
       "         0.0058, -0.0008])"
      ]
     },
     "execution_count": 28,
     "metadata": {},
     "output_type": "execute_result"
    }
   ],
   "source": [
    "model.fc = torch.nn.Linear(in_features=2048, out_features=18, bias=True)\n",
    "torch.nn.init.xavier_uniform_(model.fc.weight)\n",
    "stdv = 1. / math.sqrt(model.fc.weight.size(1))\n",
    "model.fc.bias.data.uniform_(-stdv,stdv)\n"
   ]
  },
  {
   "cell_type": "code",
   "execution_count": 29,
   "id": "e36b51bc",
   "metadata": {},
   "outputs": [],
   "source": [
    "loss = nn.CrossEntropyLoss()\n",
    "optm = optim.Adam(model.parameters(), lr=1e-3)\n",
    "dataloader = {\n",
    "    \"train\" : train_loader\n",
    "}"
   ]
  },
  {
   "cell_type": "code",
   "execution_count": null,
   "id": "e7bf9209",
   "metadata": {},
   "outputs": [],
   "source": []
  },
  {
   "cell_type": "markdown",
   "id": "ba1279d2",
   "metadata": {},
   "source": [
    "## 3. Inference"
   ]
  },
  {
   "cell_type": "code",
   "execution_count": 26,
   "id": "coral-shade",
   "metadata": {},
   "outputs": [
    {
     "name": "stdout",
     "output_type": "stream",
     "text": [
      "test inference is done!\n"
     ]
    }
   ],
   "source": [
    "# meta 데이터와 이미지 경로를 불러옵니다.\n",
    "submission = pd.read_csv(os.path.join(test_dir, 'info.csv'))\n",
    "testImage_dir = os.path.join(test_dir, 'images')\n",
    "\n",
    "# Test Dataset 클래스 객체를 생성하고 DataLoader를 만듭니다.\n",
    "testImage_paths = [os.path.join(testImage_dir, img_id) for img_id in submission.ImageID]\n",
    "\n",
    "\n",
    "\n",
    "\n",
    "transform = transforms.Compose([\n",
    "    Resize((512, 384), Image.BILINEAR),\n",
    "    ToTensor(),\n",
    "    Normalize(mean=(0.5, 0.5, 0.5), std=(0.2, 0.2, 0.2)),\n",
    "])\n",
    "dataset = TestDataset(testImage_paths, transform)\n",
    "\n",
    "loader = DataLoader(\n",
    "    dataset,\n",
    "    shuffle=False\n",
    ")\n",
    "\n",
    "# 모델을 정의합니다. (학습한 모델이 있다면 torch.load로 모델을 불러주세요!)\n",
    "device = torch.device('cuda')\n",
    "model = MyModel(num_classes=18).to(device)\n",
    "model.eval()\n",
    "\n",
    "# 모델이 테스트 데이터셋을 예측하고 결과를 저장합니다.\n",
    "all_predictions = []\n",
    "for images in loader:\n",
    "    with torch.no_grad():\n",
    "        images = images.to(device)\n",
    "        pred = model(images)\n",
    "        pred = pred.argmax(dim=-1)\n",
    "        all_predictions.extend(pred.cpu().numpy())\n",
    "submission['ans'] = all_predictions\n",
    "\n",
    "# 제출할 파일을 저장합니다.\n",
    "submission.to_csv(os.path.join(test_dir, 'submission.csv'), index=False)\n",
    "print('test inference is done!')"
   ]
  },
  {
   "cell_type": "code",
   "execution_count": null,
   "id": "verbal-sample",
   "metadata": {},
   "outputs": [],
   "source": []
  }
 ],
 "metadata": {
  "kernelspec": {
   "display_name": "Python 3 (ipykernel)",
   "language": "python",
   "name": "python3"
  },
  "language_info": {
   "codemirror_mode": {
    "name": "ipython",
    "version": 3
   },
   "file_extension": ".py",
   "mimetype": "text/x-python",
   "name": "python",
   "nbconvert_exporter": "python",
   "pygments_lexer": "ipython3",
   "version": "3.8.5"
  }
 },
 "nbformat": 4,
 "nbformat_minor": 5
}
