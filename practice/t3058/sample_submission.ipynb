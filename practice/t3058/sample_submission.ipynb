{
 "cells": [
  {
   "cell_type": "markdown",
   "id": "about-heavy",
   "metadata": {},
   "source": [
    "## 0. Libarary 불러오기 및 경로설정"
   ]
  },
  {
   "cell_type": "code",
   "execution_count": 175,
   "id": "cubic-scoop",
   "metadata": {},
   "outputs": [],
   "source": [
    "import os\n",
    "import pandas as pd\n",
    "from PIL import Image\n",
    "\n",
    "import torch\n",
    "import torch.nn as nn\n",
    "import torch.nn.functional as F\n",
    "from torch.utils.data import Dataset, DataLoader\n",
    "\n",
    "from torchvision import transforms\n",
    "from torchvision.transforms import Resize, ToTensor, Normalize\n",
    "\n",
    "from pandas import DataFrame\n",
    "import torch.optim as optim"
   ]
  },
  {
   "cell_type": "code",
   "execution_count": 176,
   "id": "built-elevation",
   "metadata": {},
   "outputs": [],
   "source": [
    "# 테스트 데이터셋 폴더 경로를 지정해주세요.\n",
    "train_dir = '/opt/ml/input/data/train'\n",
    "test_dir = '/opt/ml/input/data/eval'"
   ]
  },
  {
   "cell_type": "markdown",
   "id": "quiet-organizer",
   "metadata": {},
   "source": [
    "## 1. Model 정의"
   ]
  },
  {
   "cell_type": "code",
   "execution_count": 177,
   "id": "acknowledged-easter",
   "metadata": {},
   "outputs": [],
   "source": [
    "class MyModel(nn.Module):\n",
    "    def __init__(self, num_classes: int = 1000):\n",
    "        super(MyModel, self).__init__()\n",
    "        self.features = nn.Sequential(\n",
    "            nn.Conv2d(3, 64, kernel_size=11, stride=4, padding=2),\n",
    "            nn.BatchNorm2d(64),\n",
    "            nn.ReLU(inplace=True),\n",
    "        )\n",
    "        self.avgpool = nn.AdaptiveAvgPool2d((1, 1))\n",
    "        self.classifier = nn.Sequential(\n",
    "            nn.Dropout(),\n",
    "            nn.Linear(64, 32),\n",
    "            nn.ReLU(inplace=True),\n",
    "            nn.Linear(32, num_classes),\n",
    "        )\n",
    "\n",
    "    def forward(self, x: torch.Tensor) -> torch.Tensor:\n",
    "        x = self.features(x)\n",
    "        x = self.avgpool(x)\n",
    "        x = torch.flatten(x, 1)\n",
    "        x = self.classifier(x)\n",
    "        return x"
   ]
  },
  {
   "cell_type": "markdown",
   "id": "domestic-channels",
   "metadata": {},
   "source": [
    "## 2. Train Dataset 정의"
   ]
  },
  {
   "cell_type": "code",
   "execution_count": 244,
   "id": "29834456",
   "metadata": {},
   "outputs": [],
   "source": [
    "class TrainDataset(Dataset):    #Dataset만 받아야 한다.\n",
    "    def __init__(self, transform):\n",
    "        self.transform = transform\n",
    "        self.train_data = DataFrame({\"image\":[], \"mask\":[], \"gender\":[], \"age\":[]})\n",
    "\n",
    "        train_csv= pd.read_csv(os.path.join(train_dir, 'train.csv'))\n",
    "        tmp_x_paths = [os.path.join(train_dir,\"images\",img_id) for img_id in train_csv.path]\n",
    "        names = ['incorrect_mask.jpg','mask1.jpg','mask2.jpg','mask3.jpg','mask4.jpg','mask5.jpg','normal.jpg']\n",
    "        \n",
    "        for i,img_dir in enumerate(tmp_x_paths):\n",
    "            for j, name in enumerate(names):\n",
    "                if name[0]=='m':\n",
    "                    self.train_data.loc[7*i+j] = [os.path.join(img_dir,name), 0, train_csv.gender[i], train_csv.age[i]]\n",
    "                elif name[0]=='i':\n",
    "                    self.train_data.loc[7*i+j] = [os.path.join(img_dir,name), 1, train_csv.gender[i], train_csv.age[i]]\n",
    "                else:\n",
    "                    self.train_data.loc[7*i+j] = [os.path.join(img_dir,name), 2, train_csv.gender[i], train_csv.age[i]]\n",
    "\n",
    "\n",
    "    def __getitem__(self, index):\n",
    "        image = Image.open(self.train_data[\"image\"][index])\n",
    "\n",
    "        if self.transform:\n",
    "            image = self.transform(image)\n",
    "        return image\n",
    "\n",
    "    def __len__(self):\n",
    "        return len(self.train_data)"
   ]
  },
  {
   "cell_type": "markdown",
   "id": "domestic-channels",
   "metadata": {},
   "source": [
    "## 2. Test Dataset 정의"
   ]
  },
  {
   "cell_type": "code",
   "execution_count": 179,
   "id": "extensive-north",
   "metadata": {},
   "outputs": [],
   "source": [
    "class TestDataset(Dataset):\n",
    "    def __init__(self, img_paths, transform):\n",
    "        self.img_paths = img_paths\n",
    "        self.transform = transform\n",
    "\n",
    "    def __getitem__(self, index):\n",
    "        image = Image.open(self.img_paths[index])\n",
    "\n",
    "        if self.transform:\n",
    "            image = self.transform(image)\n",
    "        return image\n",
    "\n",
    "    def __len__(self):\n",
    "        return len(self.img_paths)"
   ]
  },
  {
   "cell_type": "code",
   "execution_count": 180,
   "id": "117c7877",
   "metadata": {},
   "outputs": [
    {
     "name": "stdout",
     "output_type": "stream",
     "text": [
      "Done.\n"
     ]
    }
   ],
   "source": [
    "model = MyModel(1000)\n",
    "loss = nn.CrossEntropyLoss()\n",
    "optm = optim.Adam(model.parameters(), lr=1e-3)\n",
    "print(\"Done.\")"
   ]
  },
  {
   "cell_type": "markdown",
   "id": "continued-feelings",
   "metadata": {},
   "source": [
    "## 3. Pre-Processing"
   ]
  },
  {
   "cell_type": "code",
   "execution_count": 245,
   "id": "5e409b4f",
   "metadata": {},
   "outputs": [],
   "source": [
    "transform = transforms.Compose([\n",
    "    Resize((512, 384), Image.BILINEAR),\n",
    "    ToTensor(),\n",
    "    Normalize(mean=(0.5, 0.5, 0.5), std=(0.2, 0.2, 0.2)),\n",
    "])\n",
    "\n",
    "x_data = TrainDataset(transform)\n",
    "\n",
    "train_loader = DataLoader(x_data, shuffle=True)"
   ]
  },
  {
   "cell_type": "code",
   "execution_count": 252,
   "id": "e3dec2bc",
   "metadata": {},
   "outputs": [
    {
     "data": {
      "text/plain": [
       "tensor([[[ 1.2451,  1.2451,  1.2451,  ...,  1.4412,  1.4412,  1.4412],\n",
       "         [ 1.2451,  1.2451,  1.2451,  ...,  1.4412,  1.4412,  1.4412],\n",
       "         [ 1.2451,  1.2451,  1.2451,  ...,  1.4412,  1.4412,  1.4412],\n",
       "         ...,\n",
       "         [ 0.4216,  0.4412,  0.4412,  ...,  0.4608,  0.4608,  0.4608],\n",
       "         [ 0.3627,  0.3627,  0.3627,  ...,  0.4804,  0.4804,  0.4804],\n",
       "         [ 0.3039,  0.3039,  0.3039,  ...,  0.5392,  0.5392,  0.5392]],\n",
       "\n",
       "        [[ 1.2255,  1.2255,  1.2255,  ...,  1.4216,  1.4216,  1.4216],\n",
       "         [ 1.2255,  1.2255,  1.2255,  ...,  1.4216,  1.4216,  1.4216],\n",
       "         [ 1.2255,  1.2255,  1.2255,  ...,  1.4216,  1.4216,  1.4216],\n",
       "         ...,\n",
       "         [-0.5980, -0.5784, -0.5784,  ..., -0.6569, -0.6569, -0.6569],\n",
       "         [-0.6569, -0.6569, -0.6569,  ..., -0.6373, -0.6373, -0.6373],\n",
       "         [-0.7157, -0.7157, -0.7157,  ..., -0.6569, -0.6569, -0.6569]],\n",
       "\n",
       "        [[ 1.1275,  1.1275,  1.1275,  ...,  1.3235,  1.3235,  1.3235],\n",
       "         [ 1.1275,  1.1275,  1.1275,  ...,  1.3235,  1.3235,  1.3235],\n",
       "         [ 1.1275,  1.1275,  1.1275,  ...,  1.3235,  1.3235,  1.3235],\n",
       "         ...,\n",
       "         [-1.3235, -1.3039, -1.3039,  ..., -1.2451, -1.2451, -1.2451],\n",
       "         [-1.3824, -1.3824, -1.3824,  ..., -1.1667, -1.1667, -1.1667],\n",
       "         [-1.4412, -1.4412, -1.4412,  ..., -1.0686, -1.0686, -1.0686]]])"
      ]
     },
     "execution_count": 252,
     "metadata": {},
     "output_type": "execute_result"
    }
   ],
   "source": [
    "x_data[0]"
   ]
  },
  {
   "cell_type": "markdown",
   "id": "continued-feelings",
   "metadata": {},
   "source": [
    "## 3. Inference"
   ]
  },
  {
   "cell_type": "code",
   "execution_count": 26,
   "id": "coral-shade",
   "metadata": {},
   "outputs": [
    {
     "name": "stdout",
     "output_type": "stream",
     "text": [
      "test inference is done!\n"
     ]
    }
   ],
   "source": [
    "# meta 데이터와 이미지 경로를 불러옵니다.\n",
    "submission = pd.read_csv(os.path.join(test_dir, 'info.csv'))\n",
    "testImage_dir = os.path.join(test_dir, 'images')\n",
    "\n",
    "# Test Dataset 클래스 객체를 생성하고 DataLoader를 만듭니다.\n",
    "testImage_paths = [os.path.join(testImage_dir, img_id) for img_id in submission.ImageID]\n",
    "\n",
    "\n",
    "\n",
    "\n",
    "transform = transforms.Compose([\n",
    "    Resize((512, 384), Image.BILINEAR),\n",
    "    ToTensor(),\n",
    "    Normalize(mean=(0.5, 0.5, 0.5), std=(0.2, 0.2, 0.2)),\n",
    "])\n",
    "dataset = TestDataset(testImage_paths, transform)\n",
    "\n",
    "loader = DataLoader(\n",
    "    dataset,\n",
    "    shuffle=False\n",
    ")\n",
    "\n",
    "# 모델을 정의합니다. (학습한 모델이 있다면 torch.load로 모델을 불러주세요!)\n",
    "device = torch.device('cuda')\n",
    "model = MyModel(num_classes=18).to(device)\n",
    "model.eval()\n",
    "\n",
    "# 모델이 테스트 데이터셋을 예측하고 결과를 저장합니다.\n",
    "all_predictions = []\n",
    "for images in loader:\n",
    "    with torch.no_grad():\n",
    "        images = images.to(device)\n",
    "        pred = model(images)\n",
    "        pred = pred.argmax(dim=-1)\n",
    "        all_predictions.extend(pred.cpu().numpy())\n",
    "submission['ans'] = all_predictions\n",
    "\n",
    "# 제출할 파일을 저장합니다.\n",
    "submission.to_csv(os.path.join(test_dir, 'submission.csv'), index=False)\n",
    "print('test inference is done!')"
   ]
  },
  {
   "cell_type": "code",
   "execution_count": null,
   "id": "verbal-sample",
   "metadata": {},
   "outputs": [],
   "source": []
  }
 ],
 "metadata": {
  "kernelspec": {
   "display_name": "Python 3",
   "language": "python",
   "name": "python3"
  },
  "language_info": {
   "codemirror_mode": {
    "name": "ipython",
    "version": 3
   },
   "file_extension": ".py",
   "mimetype": "text/x-python",
   "name": "python",
   "nbconvert_exporter": "python",
   "pygments_lexer": "ipython3",
   "version": "3.8.5"
  }
 },
 "nbformat": 4,
 "nbformat_minor": 5
}
